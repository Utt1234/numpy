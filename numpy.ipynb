{
  "nbformat": 4,
  "nbformat_minor": 0,
  "metadata": {
    "colab": {
      "provenance": []
    },
    "kernelspec": {
      "name": "python3",
      "display_name": "Python 3"
    },
    "language_info": {
      "name": "python"
    }
  },
  "cells": [
    {
      "cell_type": "markdown",
      "source": [
        "1. What is NumPy, and why is it widely used in Python\n",
        "    - NumPy is a fundamental package for numerical computing in Python. It provides support for large, multi-dimensional arrays and matrices, along with a collection of mathematical functions to operate on these arrays.\n",
        "\n",
        "2. How does broadcasting work in NumPy\n",
        "    - Broadcasting in NumPy is a powerful mechanism that allows NumPy to perform operations on arrays of different shapes.\n",
        "\n",
        "3. What is a Pandas DataFrame\n",
        "     - A Pandas DataFrame is a two-dimensional, size-mutable, and potentially heterogeneous tabular data structure with labeled axes (rows and columns).\n",
        "  \n",
        "4. Explain the use of the groupby() method in Pandas\n",
        "    - The `groupby()` method in Pandas is used to group rows of data based on the values in one or more columns.\n",
        "  \n",
        "5.  Why is  preferred for statistical visualizations\n",
        "    - Built on Matplotlib\n",
        "    -  Integration with Pandas\n",
        "    - Statistical Focus\n",
        "     - Aesthetically Pleasing\n",
        "\n",
        "6. What are the differences between NumPy arrays and Python lists\n",
        "    -  Data Type: NumPy arrays are designed to store elements of the same data type (e.g., integers, floats), while Python lists can store elements of different data types.\n",
        "\n",
        "      2. Performance: NumPy arrays are generally faster and more memory-efficient than Python lists, especially for numerical operations. This is because NumPy arrays are stored in contiguous memory locations, allowing for optimized calculations.\n",
        "\n",
        "     4. Mutability: Both NumPy arrays and Python lists are mutable, meaning you can change their elements after creation.\n",
        "\n",
        "     5.  Size: NumPy arrays are typically more compact in memory than Python lists, especially for large datasets, because they store data more efficiently.\n",
        "\n",
        "7. A What is a heatmap, and when should it be used\n",
        "    - A heatmap is a graphical representation of data where values are displayed as colors in a matrix format. It's used to visualize the magnitude of a phenomenon as color in two dimensions.\n",
        "\n",
        "\n",
        "8. What does the term “vectorized operation” mean in NumPy\n",
        "    - In NumPy, \"vectorized operation\" refers to performing an operation on entire arrays or portions of arrays without the need for explicit loops. Instead of iterating through each element individually, NumPy applies the operation element-wise in a highly optimized manner.\n",
        "\n",
        "9. How does Matplotlib differ from Plotly\n",
        "    - Matplotlib and Plotly are both popular Python libraries for data visualization, but they have key differences:\n",
        "\n",
        "      *   Interactivity: Plotly excels in creating interactive plots with features like zooming, panning, and tooltips, while Matplotlib is primarily for static plots.\n",
        "      *   Ease of Use: Matplotlib has a steeper learning curve, but offers more customization options. Plotly is generally easier to use, especially for interactive visualizations.\n",
        "       *   Output: Matplotlib generates static images (PNG, JPG, etc.), while Plotly produces interactive HTML-based plots.\n",
        "\n",
        "\n",
        "10.  What is the significance of hierarchical indexing in Pandas\n",
        "     - Hierarchical indexing (also known as multi-indexing) in Pandas allows you to have multiple levels of indexing on an axis. This is significant because:\n",
        "\n",
        "      *  It enables you to represent and work with higher-dimensional data in a 2D format (like a DataFrame).\n",
        "      *   It allows you to group and aggregate data based on multiple criteria, providing more flexibility in data analysis.\n",
        "      *   It simplifies complex data manipulation tasks, such as filtering and slicing data based on multiple levels of index.\n",
        "\n",
        "11. What is the role of Seaborn’s pairplot() function\n",
        "     - Seaborn's `pairplot()` function is used to visualize pairwise relationships within a dataset.\n",
        "\n",
        "      *   Diagonal plots:\n",
        "      *   Off-diagonal plots\n",
        "      The `pairplot()` function is useful for:\n",
        "\n",
        "       *   Exploring relationships between multiple variables in a dataset.\n",
        "      *   Identifying patterns, correlations, and clusters in the data.\n",
        "\n",
        "\n",
        "12. What is the purpose of the describe() function in Pandas\n",
        "     - The `describe()` function in Pandas is used to generate descriptive statistics of a DataFrame or Series.\n",
        "     *   Count\n",
        "     *   Mean\n",
        "     *   Standard deviation\n",
        "\n",
        "     This function is useful for  \n",
        "    *   Quickly understanding the key characteristics of your data.\n",
        "    *   Identifying potential issues such as missing values or outliers.\n",
        "\n",
        "\n",
        "13. Why is handling missing data important in Pandas\n",
        "    - Handling missing data is crucial in Pandas for several reasons:\n",
        "\n",
        "      *   Accurate Analysis: Missing data can lead to biased or inaccurate results in your analysis if not addressed properly.\n",
        "      *   Data Integrity: Missing values can affect the integrity of your dataset and the validity of your conclusions.\n",
        "      *   Compatibility: Many Pandas functions and operations cannot handle missing data directly and may produce errors or unexpected results.\n",
        "\n",
        "14. A What are the benefits of using Plotly for data visualization)\n",
        "     - The benefits of using Plotly for data visualization include:\n",
        "\n",
        "      *   Interactive visualizations: Plotly allows you to create interactive plots that users can zoom, pan, and hover over to explore the data.\n",
        "      *   Wide range of plot types: Plotly supports a variety of plot types, including scatter plots, line charts, bar charts, histograms, 3D plots, and more.\n",
        "      *   Customization: You can customize almost every aspect of your plots, including colors, labels, axes, and annotations.\n",
        "      *   Web-based: Plotly plots are web-based, which means they can be easily shared and viewed on any device with a web browser.\n",
        "\n",
        "\n",
        "15. How does NumPy handle multidimensional arrays)\n",
        "     - NumPy handles multidimensional arrays using the `ndarray` object. Here's how:\n",
        "\n",
        "       *   Data Structure: `ndarray` stores elements of the same data type in a contiguous block of memory.\n",
        "      *   Shape: The shape attribute of an `ndarray` defines the dimensions and size of the array (e.g., a 2x3 matrix).\n",
        "       *   Indexing: NumPy provides flexible indexing to access and manipulate elements in multidimensional arrays using tuples to specify the indices for each dimension.\n",
        "        *   Broadcasting: NumPy's broadcasting feature allows you to perform operations on arrays with different shapes, making it easy to perform calculations on multidimensional data.\n",
        "   \n",
        "16. A What is the role of Bokeh in data visualization)\n",
        "     - Bokeh's role in data visualization is to provide interactive and web-based plots. It is designed to create interactive visualizations that can be easily displayed in web browsers. Bokeh supports a variety of plot types and offers features for customization and interactivity, making it suitable for exploring and presenting data in a web environment.\n",
        "\n",
        "17. Explain the difference between apply() and map() in Pandas\n",
        "     - `apply()` and `map()` in Pandas serve different purposes:\n",
        "\n",
        "       *   `apply()`: Applies a function along an axis of the DataFrame (either rows or columns). It's versatile and can handle more complex operations.\n",
        "       *   `map()`: Used to substitute each value in a Series with another value, often based on a dictionary or a function. It's primarily for element-wise transformations.\n",
        "\n",
        "18.  What are some advanced features of NumPy\n",
        "     - Some advanced features of NumPy include:\n",
        "\n",
        "        *   Broadcasting: Allows operations on arrays with different shapes.\n",
        "         *   Advanced Indexing: Supports fancy indexing, boolean indexing, and more.\n",
        "\n",
        "         *   Fourier Transforms: Implements fast Fourier transforms for signal processing.\n",
        "         *   Memory-mapped files: Enables efficient handling of large datasets that don't fit in memory.\n",
        "\n",
        "19.  How does Pandas simplify time series analysis\n",
        "      - Pandas simplifies time series analysis through:\n",
        "\n",
        "        *   Timestamped Data: It has the `Timestamp` object for representing time points and `DatetimeIndex` for indexing time-series data.\n",
        "        *   Time-based Operations: It provides functions to resample, shift, and perform calculations based on time frequencies.\n",
        "        *   Missing Data Handling: It handles missing data commonly found in time series.\n",
        "        *   Visualization: It integrates with Matplotlib for plotting time series data.\n",
        "\n",
        "20. What is the role of a pivot table in Pandas\n",
        "     - A pivot table in Pandas summarizes and aggregates data. It reorganizes data to view it from different perspectives, making it easier to analyze and understand relationships between variables.\n",
        "\n",
        "21.  Why is NumPy’s array slicing faster than Python’s list slicing\n",
        "      - Because NumPy arrays store elements of the same data type contiguously in memory, enabling efficient access. Python lists, on the other hand, can store elements of different data types, leading to more overhead.\n",
        "\n",
        "22.    What are some common use cases for Seaborn?\n",
        "         - Seaborn is commonly used for:\n",
        "\n",
        "           *   Data Visualization: Creating informative and visually appealing statistical graphics.\n",
        "           *   Exploratory Data Analysis (EDA): Gaining insights into datasets through various plots.\n",
        "           *   Statistical Analysis: Visualizing relationships between variables and distributions.\n"
      ],
      "metadata": {
        "id": "-vPPfPZYw9Tq"
      }
    },
    {
      "cell_type": "code",
      "execution_count": null,
      "metadata": {
        "id": "eKHf6ESpw7m2"
      },
      "outputs": [],
      "source": [
        "# 1. How do you create a 2D NumPy array and calculate the sum of each row\n",
        "import numpy as np\n",
        "\n",
        "arr = np.array([[1, 2, 3], [4, 5, 6], [7, 8, 9]])\n",
        "\n",
        "print(\"2D Array:\\n\", arr)\n",
        "\n",
        "row_sums = np.sum(arr, axis=1)\n",
        "\n",
        "print(\"Sum of each row:\", row_sums)\n"
      ]
    },
    {
      "cell_type": "code",
      "source": [
        "# 2. Write a Pandas script to find the mean of a specific column in a DataFrame\n",
        "import pandas as pd\n",
        "\n",
        "data = {\n",
        "    'Name': ['utkarsh', 'sanjeet', 'rohit', 'Saubhagya'],\n",
        "    'Age': [25, 30, 35, 40],\n",
        "    'Salary': [50000, 60000, 75000, 80000]\n",
        "}\n",
        "\n",
        "df = pd.DataFrame(data)\n",
        "\n",
        "print(\"DataFrame:\\n\", df)\n",
        "mean_salary = df['Salary'].mean()\n",
        "\n",
        "print(\"\\nMean of Salary column:\", mean_salary)\n",
        "\n"
      ],
      "metadata": {
        "id": "x4cnMODA54vX"
      },
      "execution_count": null,
      "outputs": []
    },
    {
      "cell_type": "code",
      "source": [
        "# 3. Create a scatter plot using Matplotlib\n",
        "import matplotlib.pyplot as plt\n",
        "\n",
        "x = [5, 7, 8, 7, 6, 9, 5, 6, 7, 8]\n",
        "y = [99, 86, 87, 88, 100, 86, 103, 87, 94, 78]\n",
        "\n",
        "plt.scatter(x, y, color=\"blue\", marker=\"o\")\n",
        "\n",
        "plt.xlabel(\"X values\")\n",
        "plt.ylabel(\"Y values\")\n",
        "plt.title(\"Simple Scatter Plot\")\n",
        "\n",
        "\n",
        "plt.show()\n"
      ],
      "metadata": {
        "colab": {
          "base_uri": "https://localhost:8080/",
          "height": 472
        },
        "id": "LCEx1HlQMMA7",
        "outputId": "3e302c65-46bd-40d0-d4d1-f4d19a95c49e"
      },
      "execution_count": 1,
      "outputs": [
        {
          "output_type": "display_data",
          "data": {
            "text/plain": [
              "<Figure size 640x480 with 1 Axes>"
            ],
            "image/png": "[encoded data removed]"
          },
          "metadata": {}
        }
      ]
    },
    {
      "cell_type": "code",
      "source": [
        "# 4. How do you calculate the correlation matrix using Seaborn and visualize it with a heatmap\n",
        "import pandas as pd\n",
        "import seaborn as sns\n",
        "import matplotlib.pyplot as plt\n",
        "\n",
        "data = {\n",
        "    'Age': [25, 30, 35, 40, 28],\n",
        "    'Salary': [50000, 60000, 75000, 80000, 52000],\n",
        "    'Experience': [2, 5, 7, 10, 3]\n",
        "}\n",
        "\n",
        "df = pd.DataFrame(data)\n",
        "\n",
        "print(\"DataFrame:\\n\", df)\n",
        "\n",
        "corr_matrix = df.corr()\n",
        "\n",
        "print(\"\\nCorrelation Matrix:\\n\", corr_matrix)\n",
        "\n"
      ],
      "metadata": {
        "id": "gP70YEyaMYao"
      },
      "execution_count": null,
      "outputs": []
    },
    {
      "cell_type": "code",
      "source": [
        "# 5.  Generate a bar plot using Plotly\n",
        "import plotly.express as px\n",
        "import pandas as pd\n",
        "\n",
        "data = {\n",
        "    \"Fruits\": [\"Apples\", \"Bananas\", \"mango\", \"papaya\"],\n",
        "    \"Quantity\": [10, 15, 7, 12]\n",
        "}\n",
        "\n",
        "df = pd.DataFrame(data)\n",
        "\n",
        "\n",
        "fig = px.bar(df, x=\"Fruits\", y=\"Quantity\", title=\"Fruit Quantity Bar Plot\", color=\"Fruits\")\n",
        "\n",
        "fig.show()\n"
      ],
      "metadata": {
        "id": "Q_-v5bRaMo7S"
      },
      "execution_count": null,
      "outputs": []
    },
    {
      "cell_type": "code",
      "source": [
        "# 6.Create a DataFrame and add a new column based on an existing column\n",
        "import pandas as pd\n",
        "\n",
        "data = {\n",
        "    'Name': ['utkash', 'mukul', 'satyam', 'harsh'],\n",
        "    'Salary': [50000, 60000, 75000, 80000]\n",
        "}\n",
        "\n",
        "df = pd.DataFrame(data)\n",
        "\n",
        "print(\"Original DataFrame:\\n\", df)\n",
        "\n",
        "# Add a new column (10% bonus of salary)\n",
        "df['Bonus'] = df['Salary'] * 0.10\n",
        "\n",
        "print(\"\\nDataFrame with new column:\\n\", df)\n",
        "\n"
      ],
      "metadata": {
        "id": "w7vhIJ6GMuui"
      },
      "execution_count": null,
      "outputs": []
    },
    {
      "cell_type": "code",
      "source": [
        "# 7. Write a program to perform element-wise multiplication of two NumPy arrays\n",
        "import numpy as np\n",
        "\n",
        "\n",
        "arr1 = np.array([1, 2, 3, 4])\n",
        "arr2 = np.array([5, 6, 7, 8])\n",
        "\n",
        "print(\"Array 1:\", arr1)\n",
        "print(\"Array 2:\", arr2)\n",
        "\n",
        "\n",
        "result = arr1 * arr2"
      ],
      "metadata": {
        "id": "U7ZN-850M8Fa"
      },
      "execution_count": null,
      "outputs": []
    },
    {
      "cell_type": "code",
      "source": [
        "# 8. Create a line plot with multiple lines using Matplotlib\n",
        "import numpy as np\n",
        "\n",
        "\n",
        "arr1 = np.array([1, 2, 3, 4])\n",
        "arr2 = np.array([5, 6, 7, 8])\n",
        "\n",
        "print(\"Array 1:\", arr1)\n",
        "print(\"Array 2:\", arr2)\n",
        "\n",
        "\n",
        "result = arr1 * arr2\n",
        "\n",
        "print(\" multiplication result:\", result)\n"
      ],
      "metadata": {
        "id": "M30mNSHoNGjs"
      },
      "execution_count": null,
      "outputs": []
    },
    {
      "cell_type": "code",
      "source": [
        "# 9. Generate a Pandas DataFrame and filter rows where a column value is greater than a threshold\n",
        "import pandas as pd\n",
        "\n",
        "\n",
        "data = {\n",
        "    'Name': ['ut', 'ms', 'rs', 'viv'],\n",
        "    'Age': [25, 30, 35, 40],\n",
        "    'Salary': [50000, 60000, 75000, 80000]\n",
        "}\n",
        "\n",
        "df = pd.DataFrame(data)\n",
        "\n",
        "print(\"Original DataFrame:\\n\", df)\n",
        "\n",
        "\n",
        "filtered_df = df[df['Salary'] > 60000]\n",
        "\n",
        "print(\"\\nFiltered DataFrame (Salary > 60000):\\n\", filtered_df)\n"
      ],
      "metadata": {
        "id": "QMtB0RM3NNsR"
      },
      "execution_count": null,
      "outputs": []
    },
    {
      "cell_type": "code",
      "source": [
        "# 10. Create a histogram using Seaborn to visualize a distribution\n",
        "import seaborn as sns\n",
        "import matplotlib.pyplot as plt\n",
        "\n",
        "\n",
        "data = [12, 15, 13, 17, 19, 22, 25, 29, 30, 32, 35, 36, 40, 42, 45, 50, 52, 55]\n",
        "\n",
        "\n",
        "sns.histplot(data, bins=8, kde=True, color=\"skyblue\")\n",
        "\n",
        "plt.xlabel(\"Value\")\n",
        "plt.ylabel(\"Frequency\")\n",
        "plt.title(\"Distribution Histogram with Seaborn\")\n",
        "\n",
        "plt.show()\n"
      ],
      "metadata": {
        "id": "TQUt3fbgNYST"
      },
      "execution_count": null,
      "outputs": []
    },
    {
      "cell_type": "code",
      "source": [
        "# 11. Perform matrix multiplication using NumPy\n",
        "import numpy as np\n",
        "\n",
        "\n",
        "A = np.array([[1, 2],\n",
        "              [3, 4]])\n",
        "\n",
        "B = np.array([[5, 6],\n",
        "              [7, 8]])\n",
        "\n",
        "print(\"Matrix A:\\n\", A)\n",
        "print(\"Matrix B:\\n\", B)\n",
        "\n",
        "\n",
        "result = np.dot(A, B)\n",
        "\n",
        "print(\"Result of matrix multiplication:\\n\", result)\n"
      ],
      "metadata": {
        "id": "VXEh7RY_N2ZD"
      },
      "execution_count": null,
      "outputs": []
    },
    {
      "cell_type": "code",
      "source": [
        "# 12. Use Pandas to load a CSV file and display its first 5 rows\n",
        "import pandas as pd\n",
        "\n",
        "df = pd.read_csv(\"data.csv\")\n",
        "\n",
        "\n",
        "print(df.head())\n"
      ],
      "metadata": {
        "id": "0menafSDN88n"
      },
      "execution_count": null,
      "outputs": []
    },
    {
      "cell_type": "code",
      "source": [
        "# 13. Create a 3D scatter plot using Plotly\n",
        "import plotly.express as px\n",
        "import pandas as pd\n",
        "\n",
        "\n",
        "data = {\n",
        "    \"X\": [1, 2, 3, 4, 5],\n",
        "    \"Y\": [10, 11, 12, 13, 14],\n",
        "    \"Z\": [5, 6, 7, 8, 9],\n",
        "    \"Category\": [\"A\", \"B\", \"A\", \"B\", \"A\"]\n",
        "}\n",
        "\n",
        "df = pd.DataFrame(data)\n",
        "\n",
        "fig = px.scatter_3d(df, x=\"X\", y=\"Y\", z=\"Z\", color=\"Category\", size=\"Z\",\n",
        "                    title=\"3D Scatter Plot Example\")\n",
        "\n",
        "\n",
        "fig.show()\n"
      ],
      "metadata": {
        "id": "-4nsqgDSOIYy"
      },
      "execution_count": null,
      "outputs": []
    },
    {
      "cell_type": "code",
      "source": [],
      "metadata": {
        "id": "8VUgfdta2FNY"
      },
      "execution_count": null,
      "outputs": []
    }
  ]
}